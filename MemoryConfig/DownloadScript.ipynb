{
 "cells": [
  {
   "cell_type": "code",
   "execution_count": 1,
   "id": "cab4c184-4d5d-49ab-a844-906071e9948a",
   "metadata": {},
   "outputs": [],
   "source": [
    "import boto3\n",
    "import os"
   ]
  },
  {
   "cell_type": "code",
   "execution_count": 3,
   "id": "b13c9147-321d-487e-9fa1-aa01ba3c089e",
   "metadata": {},
   "outputs": [
    {
     "name": "stdout",
     "output_type": "stream",
     "text": [
      "Downloading  ParT_full.pt\n",
      "Downloading  ParT_kin.pt\n",
      "Downloading  ParT_kinpid.pt\n",
      "Downloading  ParticleNet_full.pt\n",
      "Downloading  ParticleTransformer.py\n",
      "Downloading  env.sh\n",
      "Downloading  example_PCNN.py\n",
      "Downloading  example_PFN.py\n",
      "Downloading  example_ParticleNet.py\n",
      "Downloading  example_ParticleTransformer.py\n",
      "Downloading  example_ParticleTransformer_finetune.py\n",
      "Downloading  qg_kin.yaml\n",
      "Downloading  qg_kinpid.yaml\n",
      "Downloading  qg_kinpidplus.yaml\n",
      "Downloading  test_file_0.parquet\n",
      "Downloading  test_file_1.parquet\n",
      "Downloading  train_QuarkGluon.sh\n",
      "Downloading  train_file_0.parquet\n",
      "Downloading  train_file_1.parquet\n",
      "Downloading  train_file_10.parquet\n",
      "Downloading  train_file_11.parquet\n",
      "Downloading  train_file_12.parquet\n",
      "Downloading  train_file_13.parquet\n",
      "Downloading  train_file_14.parquet\n",
      "Downloading  train_file_15.parquet\n",
      "Downloading  train_file_16.parquet\n",
      "Downloading  train_file_17.parquet\n",
      "Downloading  train_file_2.parquet\n",
      "Downloading  train_file_3.parquet\n",
      "Downloading  train_file_4.parquet\n",
      "Downloading  train_file_5.parquet\n",
      "Downloading  train_file_6.parquet\n",
      "Downloading  train_file_7.parquet\n",
      "Downloading  train_file_8.parquet\n",
      "Downloading  train_file_9.parquet\n"
     ]
    }
   ],
   "source": [
    "# Insert credentials\n",
    "credentials_dir = '/home/jovyan/.aws'\n",
    "if not os.path.exists(credentials_dir):\n",
    "    os.makedirs(credentials_dir)\n",
    "\n",
    "with open(credentials_dir + '/credentials', 'w') as f:\n",
    "    f.write('[default]\\n')\n",
    "    f.write('aws_access_key_id=1234\\n')\n",
    "    f.write('aws_secret_access_key=1234\\n')\n",
    "    \n",
    "download_list = ['train_QuarkGluon.sh', 'env.sh', '.pt', '.py', '.parquet', 'qg']\n",
    "dir_list = ['data', 'datasets', 'models', 'networks']    \n",
    "    \n",
    "# Make data directory\n",
    "data_dir = '/home/jovyan/data'\n",
    "if not os.path.exists(data_dir):\n",
    "    os.makedirs(data_dir)\n",
    "    \n",
    "# Make all other directories for good formatting\n",
    "for directory in dir_list:\n",
    "    data_dir = '/home/jovyan/data/{}'.format(directory)\n",
    "    if not os.path.exists(data_dir):\n",
    "        os.makedirs(data_dir)\n",
    "    \n",
    "for directory in ['data', 'datasets']:\n",
    "    data_dir = '/home/jovyan/data/{}/QuarkGluon'.format(directory)\n",
    "    if not os.path.exists(data_dir):\n",
    "        os.makedirs(data_dir)\n",
    "\n",
    "data_dir = '/home/jovyan/data'\n",
    "\n",
    "client = boto3.client('s3', endpoint_url='https://s3.cern.ch')\n",
    "for key in client.list_objects(Bucket='dejan')['Contents']:\n",
    "    for name in download_list:\n",
    "        if name in key['Key']:\n",
    "            if name == 'train_QuarkGluon.sh':\n",
    "                print('Downloading ', key['Key'])\n",
    "                client.download_file('dejan', key['Key'], data_dir + '/' + key['Key'])\n",
    "            elif name == 'env.sh':\n",
    "                print('Downloading ', key['Key'])\n",
    "                client.download_file('dejan', key['Key'], data_dir + '/' + key['Key'])                \n",
    "            elif name == '.parquet':\n",
    "                print('Downloading ', key['Key'])\n",
    "                client.download_file('dejan', key['Key'], data_dir + '/datasets/QuarkGluon/' +  key['Key'])\n",
    "            elif name == '.pt':\n",
    "                print('Downloading ', key['Key'])\n",
    "                client.download_file('dejan', key['Key'], data_dir + '/models/' +  key['Key'])\n",
    "            elif name == '.py':\n",
    "                print('Downloading ', key['Key'])\n",
    "                client.download_file('dejan', key['Key'], data_dir + '/networks/' +  key['Key'])\n",
    "            elif name == 'qg':\n",
    "                print('Downloading ', key['Key'])\n",
    "                client.download_file('dejan', key['Key'], data_dir + '/data/QuarkGluon/' +  key['Key'])"
   ]
  },
  {
   "cell_type": "code",
   "execution_count": null,
   "id": "d3c6a5de-0bcf-4716-b5a5-aa3003e51bbd",
   "metadata": {},
   "outputs": [],
   "source": []
  }
 ],
 "metadata": {
  "kernelspec": {
   "display_name": "Python 3",
   "language": "python",
   "name": "python3"
  },
  "language_info": {
   "codemirror_mode": {
    "name": "ipython",
    "version": 3
   },
   "file_extension": ".py",
   "mimetype": "text/x-python",
   "name": "python",
   "nbconvert_exporter": "python",
   "pygments_lexer": "ipython3",
   "version": "3.8.10"
  }
 },
 "nbformat": 4,
 "nbformat_minor": 5
}
